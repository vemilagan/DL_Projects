{
  "cells": [
    {
      "cell_type": "markdown",
      "metadata": {
        "id": "t5N4kGZaAIoK"
      },
      "source": [
        "# Project 2: Implementing a Simple Convolutional Neural Network (CNN)\n",
        "\n",
        "## Introduction\n",
        "\n",
        "In this project, you will design, implement, and evaluate a simple Convolutional Neural Network (CNN) from scratch. This will involve building the entire pipeline, from data preprocessing to model training and evaluation.\n",
        "\n",
        "## Objectives\n",
        "\n",
        "1. Set up TensorFlow or PyTorch environments. You are free to choose your preferred DL platform.\n",
        "2. Use GPU for training.\n",
        "3. Create a data loader and implement data preprocessing where needed.\n",
        "4. Design a Convolutional Neural Network.\n",
        "5. Train and evaluate your model. Make sure to clearly show loss and accuracy values. Include visualizations too.\n",
        "6. Answer assessment questions.\n",
        "\n",
        "## Dataset\n",
        "\n",
        "You are free to choose any dataset for this project! Kaggle would be a good source to look for datasets. Below are some examples:\n",
        "- CIFAR-10: A dataset of 60,000 32x32 color images in 10 classes with 6,000 images per class.\n",
        "- MNIST: A dataset of 70,000 28x28 grayscale images of handwritten digits (0-9).\n",
        "- Fashion-MNIST: A dataset of 70,000 28x28 grayscale images of 10 different clothing caregories.\n"
      ]
    },
    {
      "cell_type": "code",
      "source": [
        "!nvidia-smi\n",
        "\n",
        "!pip install torch torchvision"
      ],
      "metadata": {
        "colab": {
          "base_uri": "https://localhost:8080/"
        },
        "id": "Urykno5rFJXS",
        "outputId": "84c58384-efb2-4f44-fd1e-f58bd6b6cabe"
      },
      "execution_count": 9,
      "outputs": [
        {
          "output_type": "stream",
          "name": "stdout",
          "text": [
            "/bin/bash: line 1: nvidia-smi: command not found\n",
            "Requirement already satisfied: torch in /usr/local/lib/python3.10/dist-packages (2.3.0+cu121)\n",
            "Requirement already satisfied: torchvision in /usr/local/lib/python3.10/dist-packages (0.18.0+cu121)\n",
            "Requirement already satisfied: filelock in /usr/local/lib/python3.10/dist-packages (from torch) (3.14.0)\n",
            "Requirement already satisfied: typing-extensions>=4.8.0 in /usr/local/lib/python3.10/dist-packages (from torch) (4.12.2)\n",
            "Requirement already satisfied: sympy in /usr/local/lib/python3.10/dist-packages (from torch) (1.12.1)\n",
            "Requirement already satisfied: networkx in /usr/local/lib/python3.10/dist-packages (from torch) (3.3)\n",
            "Requirement already satisfied: jinja2 in /usr/local/lib/python3.10/dist-packages (from torch) (3.1.4)\n",
            "Requirement already satisfied: fsspec in /usr/local/lib/python3.10/dist-packages (from torch) (2023.6.0)\n",
            "Requirement already satisfied: nvidia-cuda-nvrtc-cu12==12.1.105 in /usr/local/lib/python3.10/dist-packages (from torch) (12.1.105)\n",
            "Requirement already satisfied: nvidia-cuda-runtime-cu12==12.1.105 in /usr/local/lib/python3.10/dist-packages (from torch) (12.1.105)\n",
            "Requirement already satisfied: nvidia-cuda-cupti-cu12==12.1.105 in /usr/local/lib/python3.10/dist-packages (from torch) (12.1.105)\n",
            "Requirement already satisfied: nvidia-cudnn-cu12==8.9.2.26 in /usr/local/lib/python3.10/dist-packages (from torch) (8.9.2.26)\n",
            "Requirement already satisfied: nvidia-cublas-cu12==12.1.3.1 in /usr/local/lib/python3.10/dist-packages (from torch) (12.1.3.1)\n",
            "Requirement already satisfied: nvidia-cufft-cu12==11.0.2.54 in /usr/local/lib/python3.10/dist-packages (from torch) (11.0.2.54)\n",
            "Requirement already satisfied: nvidia-curand-cu12==10.3.2.106 in /usr/local/lib/python3.10/dist-packages (from torch) (10.3.2.106)\n",
            "Requirement already satisfied: nvidia-cusolver-cu12==11.4.5.107 in /usr/local/lib/python3.10/dist-packages (from torch) (11.4.5.107)\n",
            "Requirement already satisfied: nvidia-cusparse-cu12==12.1.0.106 in /usr/local/lib/python3.10/dist-packages (from torch) (12.1.0.106)\n",
            "Requirement already satisfied: nvidia-nccl-cu12==2.20.5 in /usr/local/lib/python3.10/dist-packages (from torch) (2.20.5)\n",
            "Requirement already satisfied: nvidia-nvtx-cu12==12.1.105 in /usr/local/lib/python3.10/dist-packages (from torch) (12.1.105)\n",
            "Requirement already satisfied: triton==2.3.0 in /usr/local/lib/python3.10/dist-packages (from torch) (2.3.0)\n",
            "Requirement already satisfied: nvidia-nvjitlink-cu12 in /usr/local/lib/python3.10/dist-packages (from nvidia-cusolver-cu12==11.4.5.107->torch) (12.5.40)\n",
            "Requirement already satisfied: numpy in /usr/local/lib/python3.10/dist-packages (from torchvision) (1.25.2)\n",
            "Requirement already satisfied: pillow!=8.3.*,>=5.3.0 in /usr/local/lib/python3.10/dist-packages (from torchvision) (9.4.0)\n",
            "Requirement already satisfied: MarkupSafe>=2.0 in /usr/local/lib/python3.10/dist-packages (from jinja2->torch) (2.1.5)\n",
            "Requirement already satisfied: mpmath<1.4.0,>=1.1.0 in /usr/local/lib/python3.10/dist-packages (from sympy->torch) (1.3.0)\n"
          ]
        }
      ]
    },
    {
      "cell_type": "markdown",
      "source": [
        "###Data Preprocessing"
      ],
      "metadata": {
        "id": "Afgy88f4KR8w"
      }
    },
    {
      "cell_type": "code",
      "source": [
        "import torch\n",
        "import torchvision\n",
        "import torchvision.transforms as transforms\n",
        "import torch.nn as nn\n",
        "import torch.nn.functional as F\n",
        "import torch.optim as optim\n",
        "import matplotlib.pyplot as plt\n",
        "import numpy as np\n",
        "from torch.utils.tensorboard import SummaryWriter\n",
        "from PIL import Image\n",
        "\n",
        "transform = transforms.Compose([\n",
        "    transforms.ToTensor(),\n",
        "    transforms.Normalize((0.5,), (0.5,))\n",
        "])\n",
        "\n",
        "class AugmentedMNIST(torchvision.datasets.MNIST):\n",
        "    def __init__(self, *args, **kwargs):\n",
        "        super().__init__(*args, **kwargs)\n",
        "        self.augment = transforms.Compose([\n",
        "            transforms.RandomHorizontalFlip(),\n",
        "            transforms.RandomCrop(28, padding=4),\n",
        "            transforms.ColorJitter(brightness=0.2, contrast=0.2, saturation=0.2, hue=0.2)\n",
        "        ])\n",
        "\n",
        "    def __getitem__(self, index):\n",
        "        img, target = self.data[index], int(self.targets[index])\n",
        "        img = Image.fromarray(img.numpy(), mode='L')\n",
        "\n",
        "        if self.train:\n",
        "            img = self.augment(img)\n",
        "        img = np.array(img)\n",
        "\n",
        "        if self.transform is not None:\n",
        "            img = self.transform(img)\n",
        "\n",
        "        return img, target\n",
        "\n",
        "trainset = AugmentedMNIST(root='./data', train=True, download=True, transform=transform)\n",
        "trainloader = torch.utils.data.DataLoader(trainset, batch_size=64, shuffle=True, num_workers=2)\n",
        "\n",
        "testset = torchvision.datasets.MNIST(root='./data', train=False, download=True, transform=transform)\n",
        "testloader = torch.utils.data.DataLoader(testset, batch_size=64, shuffle=False, num_workers=2)\n",
        "\n",
        "classes = tuple(str(i) for i in range(10))\n",
        "\n",
        "print(\"Data loaded and transformed.\")"
      ],
      "metadata": {
        "colab": {
          "base_uri": "https://localhost:8080/"
        },
        "id": "n2_QagsUKQD2",
        "outputId": "1545eb0f-cba3-4384-bd70-5c021e4e11dd"
      },
      "execution_count": 21,
      "outputs": [
        {
          "output_type": "stream",
          "name": "stdout",
          "text": [
            "Downloading http://yann.lecun.com/exdb/mnist/train-images-idx3-ubyte.gz\n",
            "Failed to download (trying next):\n",
            "HTTP Error 403: Forbidden\n",
            "\n",
            "Downloading https://ossci-datasets.s3.amazonaws.com/mnist/train-images-idx3-ubyte.gz\n",
            "Downloading https://ossci-datasets.s3.amazonaws.com/mnist/train-images-idx3-ubyte.gz to ./data/AugmentedMNIST/raw/train-images-idx3-ubyte.gz\n"
          ]
        },
        {
          "output_type": "stream",
          "name": "stderr",
          "text": [
            "100%|██████████| 9912422/9912422 [00:03<00:00, 3262217.14it/s]\n"
          ]
        },
        {
          "output_type": "stream",
          "name": "stdout",
          "text": [
            "Extracting ./data/AugmentedMNIST/raw/train-images-idx3-ubyte.gz to ./data/AugmentedMNIST/raw\n",
            "\n",
            "Downloading http://yann.lecun.com/exdb/mnist/train-labels-idx1-ubyte.gz\n",
            "Failed to download (trying next):\n",
            "HTTP Error 403: Forbidden\n",
            "\n",
            "Downloading https://ossci-datasets.s3.amazonaws.com/mnist/train-labels-idx1-ubyte.gz\n",
            "Downloading https://ossci-datasets.s3.amazonaws.com/mnist/train-labels-idx1-ubyte.gz to ./data/AugmentedMNIST/raw/train-labels-idx1-ubyte.gz\n"
          ]
        },
        {
          "output_type": "stream",
          "name": "stderr",
          "text": [
            "100%|██████████| 28881/28881 [00:00<00:00, 639768.54it/s]\n"
          ]
        },
        {
          "output_type": "stream",
          "name": "stdout",
          "text": [
            "Extracting ./data/AugmentedMNIST/raw/train-labels-idx1-ubyte.gz to ./data/AugmentedMNIST/raw\n",
            "\n",
            "Downloading http://yann.lecun.com/exdb/mnist/t10k-images-idx3-ubyte.gz\n",
            "Failed to download (trying next):\n",
            "HTTP Error 403: Forbidden\n",
            "\n",
            "Downloading https://ossci-datasets.s3.amazonaws.com/mnist/t10k-images-idx3-ubyte.gz\n",
            "Downloading https://ossci-datasets.s3.amazonaws.com/mnist/t10k-images-idx3-ubyte.gz to ./data/AugmentedMNIST/raw/t10k-images-idx3-ubyte.gz\n"
          ]
        },
        {
          "output_type": "stream",
          "name": "stderr",
          "text": [
            "100%|██████████| 1648877/1648877 [00:00<00:00, 5588508.79it/s]\n"
          ]
        },
        {
          "output_type": "stream",
          "name": "stdout",
          "text": [
            "Extracting ./data/AugmentedMNIST/raw/t10k-images-idx3-ubyte.gz to ./data/AugmentedMNIST/raw\n",
            "\n",
            "Downloading http://yann.lecun.com/exdb/mnist/t10k-labels-idx1-ubyte.gz\n",
            "Failed to download (trying next):\n",
            "HTTP Error 403: Forbidden\n",
            "\n",
            "Downloading https://ossci-datasets.s3.amazonaws.com/mnist/t10k-labels-idx1-ubyte.gz\n",
            "Downloading https://ossci-datasets.s3.amazonaws.com/mnist/t10k-labels-idx1-ubyte.gz to ./data/AugmentedMNIST/raw/t10k-labels-idx1-ubyte.gz\n"
          ]
        },
        {
          "output_type": "stream",
          "name": "stderr",
          "text": [
            "100%|██████████| 4542/4542 [00:00<00:00, 2685442.45it/s]"
          ]
        },
        {
          "output_type": "stream",
          "name": "stdout",
          "text": [
            "Extracting ./data/AugmentedMNIST/raw/t10k-labels-idx1-ubyte.gz to ./data/AugmentedMNIST/raw\n",
            "\n"
          ]
        },
        {
          "output_type": "stream",
          "name": "stderr",
          "text": [
            "\n"
          ]
        },
        {
          "output_type": "stream",
          "name": "stdout",
          "text": [
            "Downloading http://yann.lecun.com/exdb/mnist/train-images-idx3-ubyte.gz\n",
            "Failed to download (trying next):\n",
            "HTTP Error 403: Forbidden\n",
            "\n",
            "Downloading https://ossci-datasets.s3.amazonaws.com/mnist/train-images-idx3-ubyte.gz\n",
            "Downloading https://ossci-datasets.s3.amazonaws.com/mnist/train-images-idx3-ubyte.gz to ./data/MNIST/raw/train-images-idx3-ubyte.gz\n"
          ]
        },
        {
          "output_type": "stream",
          "name": "stderr",
          "text": [
            "100%|██████████| 9912422/9912422 [00:00<00:00, 21910125.09it/s]\n"
          ]
        },
        {
          "output_type": "stream",
          "name": "stdout",
          "text": [
            "Extracting ./data/MNIST/raw/train-images-idx3-ubyte.gz to ./data/MNIST/raw\n",
            "\n",
            "Downloading http://yann.lecun.com/exdb/mnist/train-labels-idx1-ubyte.gz\n",
            "Failed to download (trying next):\n",
            "HTTP Error 403: Forbidden\n",
            "\n",
            "Downloading https://ossci-datasets.s3.amazonaws.com/mnist/train-labels-idx1-ubyte.gz\n",
            "Downloading https://ossci-datasets.s3.amazonaws.com/mnist/train-labels-idx1-ubyte.gz to ./data/MNIST/raw/train-labels-idx1-ubyte.gz\n"
          ]
        },
        {
          "output_type": "stream",
          "name": "stderr",
          "text": [
            "100%|██████████| 28881/28881 [00:00<00:00, 621562.50it/s]\n"
          ]
        },
        {
          "output_type": "stream",
          "name": "stdout",
          "text": [
            "Extracting ./data/MNIST/raw/train-labels-idx1-ubyte.gz to ./data/MNIST/raw\n",
            "\n",
            "Downloading http://yann.lecun.com/exdb/mnist/t10k-images-idx3-ubyte.gz\n",
            "Failed to download (trying next):\n",
            "HTTP Error 403: Forbidden\n",
            "\n",
            "Downloading https://ossci-datasets.s3.amazonaws.com/mnist/t10k-images-idx3-ubyte.gz\n",
            "Downloading https://ossci-datasets.s3.amazonaws.com/mnist/t10k-images-idx3-ubyte.gz to ./data/MNIST/raw/t10k-images-idx3-ubyte.gz\n"
          ]
        },
        {
          "output_type": "stream",
          "name": "stderr",
          "text": [
            "100%|██████████| 1648877/1648877 [00:00<00:00, 5650464.27it/s]\n"
          ]
        },
        {
          "output_type": "stream",
          "name": "stdout",
          "text": [
            "Extracting ./data/MNIST/raw/t10k-images-idx3-ubyte.gz to ./data/MNIST/raw\n",
            "\n",
            "Downloading http://yann.lecun.com/exdb/mnist/t10k-labels-idx1-ubyte.gz\n",
            "Failed to download (trying next):\n",
            "HTTP Error 403: Forbidden\n",
            "\n",
            "Downloading https://ossci-datasets.s3.amazonaws.com/mnist/t10k-labels-idx1-ubyte.gz\n",
            "Downloading https://ossci-datasets.s3.amazonaws.com/mnist/t10k-labels-idx1-ubyte.gz to ./data/MNIST/raw/t10k-labels-idx1-ubyte.gz\n"
          ]
        },
        {
          "output_type": "stream",
          "name": "stderr",
          "text": [
            "100%|██████████| 4542/4542 [00:00<00:00, 1510627.93it/s]"
          ]
        },
        {
          "output_type": "stream",
          "name": "stdout",
          "text": [
            "Extracting ./data/MNIST/raw/t10k-labels-idx1-ubyte.gz to ./data/MNIST/raw\n",
            "\n",
            "Data loaded and transformed.\n"
          ]
        },
        {
          "output_type": "stream",
          "name": "stderr",
          "text": [
            "\n"
          ]
        }
      ]
    },
    {
      "cell_type": "markdown",
      "source": [
        "###Design the CNN Model"
      ],
      "metadata": {
        "id": "p1eubgN-Kjdd"
      }
    },
    {
      "cell_type": "code",
      "source": [
        "class CNN(nn.Module):\n",
        "    def __init__(self):\n",
        "        super(CNN, self).__init__()\n",
        "        self.conv1 = nn.Conv2d(1, 6, 5)\n",
        "        self.pool = nn.MaxPool2d(2, 2)\n",
        "        self.conv2 = nn.Conv2d(6, 16, 5)\n",
        "        self.fc1 = nn.Linear(16 * 4 * 4, 120)\n",
        "        self.fc2 = nn.Linear(120, 84)\n",
        "        self.fc3 = nn.Linear(84, 10)\n",
        "\n",
        "    def forward(self, x):\n",
        "        x = self.pool(torch.relu(self.conv1(x)))\n",
        "        x = self.pool(torch.relu(self.conv2(x)))\n",
        "        x = x.view(-1, 16 * 4 * 4)\n",
        "        x = torch.relu(self.fc1(x))\n",
        "        x = torch.relu(self.fc2(x))\n",
        "        x = self.fc3(x)\n",
        "        return x\n",
        "\n",
        "model = CNN().to(device)\n",
        "print(\"Model defined.\")"
      ],
      "metadata": {
        "colab": {
          "base_uri": "https://localhost:8080/"
        },
        "id": "QfGDxcL8KYLe",
        "outputId": "476ef183-702e-41b2-a959-f46ffc450d40"
      },
      "execution_count": 22,
      "outputs": [
        {
          "output_type": "stream",
          "name": "stdout",
          "text": [
            "Model defined.\n"
          ]
        }
      ]
    },
    {
      "cell_type": "markdown",
      "source": [
        "###Define the Loss Function and Optimizer"
      ],
      "metadata": {
        "id": "QUiPlvOeLgFJ"
      }
    },
    {
      "cell_type": "code",
      "source": [
        "criterion = nn.CrossEntropyLoss()\n",
        "optimizer = optim.SGD(model.parameters(), lr=0.001, momentum=0.9)\n",
        "print(\"Loss function and optimizer defined.\")"
      ],
      "metadata": {
        "colab": {
          "base_uri": "https://localhost:8080/"
        },
        "id": "CosLWMHXLdpk",
        "outputId": "003438c2-2956-49ac-a779-84a2483e95a2"
      },
      "execution_count": 23,
      "outputs": [
        {
          "output_type": "stream",
          "name": "stdout",
          "text": [
            "Loss function and optimizer defined.\n"
          ]
        }
      ]
    },
    {
      "cell_type": "markdown",
      "source": [
        "###Train the Model"
      ],
      "metadata": {
        "id": "dR2MCwvwKps5"
      }
    },
    {
      "cell_type": "code",
      "source": [
        "writer = SummaryWriter('runs/mnist_experiment')\n",
        "\n",
        "epochs = 2\n",
        "for epoch in range(epochs):\n",
        "    running_loss = 0.0\n",
        "    for i, data in enumerate(trainloader, 0):\n",
        "        inputs, labels = data\n",
        "        inputs, labels = inputs.to(device), labels.to(device)\n",
        "\n",
        "        optimizer.zero_grad()\n",
        "        outputs = model(inputs)\n",
        "        loss = criterion(outputs, labels)\n",
        "        loss.backward()\n",
        "        optimizer.step()\n",
        "\n",
        "        running_loss += loss.item()\n",
        "        if i % 200 == 199:\n",
        "            print(f'[Epoch {epoch + 1}, Batch {i + 1}] loss: {running_loss / 200:.3f}')\n",
        "            writer.add_scalar('training loss', running_loss / 200, epoch * len(trainloader) + i)\n",
        "            running_loss = 0.0\n",
        "\n",
        "print('Finished Training')"
      ],
      "metadata": {
        "colab": {
          "base_uri": "https://localhost:8080/"
        },
        "id": "IXQJPUlCKuOo",
        "outputId": "da844531-8dd0-405f-ca8c-ce5a297094eb"
      },
      "execution_count": 24,
      "outputs": [
        {
          "output_type": "stream",
          "name": "stderr",
          "text": [
            "/usr/lib/python3.10/multiprocessing/popen_fork.py:66: RuntimeWarning: os.fork() was called. os.fork() is incompatible with multithreaded code, and JAX is multithreaded, so this will likely lead to a deadlock.\n",
            "  self.pid = os.fork()\n"
          ]
        },
        {
          "output_type": "stream",
          "name": "stdout",
          "text": [
            "[Epoch 1, Batch 200] loss: 2.302\n",
            "[Epoch 1, Batch 400] loss: 2.298\n",
            "[Epoch 1, Batch 600] loss: 2.294\n",
            "[Epoch 1, Batch 800] loss: 2.287\n",
            "[Epoch 2, Batch 200] loss: 2.248\n",
            "[Epoch 2, Batch 400] loss: 2.137\n",
            "[Epoch 2, Batch 600] loss: 1.876\n",
            "[Epoch 2, Batch 800] loss: 1.689\n",
            "Finished Training\n"
          ]
        }
      ]
    },
    {
      "cell_type": "markdown",
      "source": [
        "###Evaluate the Model"
      ],
      "metadata": {
        "id": "MZCoOKv-S4vP"
      }
    },
    {
      "cell_type": "code",
      "source": [
        "correct = 0\n",
        "total = 0\n",
        "with torch.no_grad():\n",
        "    for data in testloader:\n",
        "        images, labels = data\n",
        "        images, labels = images.to(device), labels.to(device)\n",
        "        outputs = model(images)\n",
        "        _, predicted = torch.max(outputs.data, 1)\n",
        "        total += labels.size(0)\n",
        "        correct += (predicted == labels).sum().item()\n",
        "\n",
        "print(f'Accuracy of the network on the 10000 test images: {100 * correct / total} %')\n",
        "\n",
        "writer.add_scalar('accuracy', 100 * correct / total, epochs)\n",
        "\n",
        "writer.close()"
      ],
      "metadata": {
        "colab": {
          "base_uri": "https://localhost:8080/"
        },
        "id": "5pLPlhltS73u",
        "outputId": "2875d888-9fcd-4d77-a6f0-64635197679b"
      },
      "execution_count": 25,
      "outputs": [
        {
          "output_type": "stream",
          "name": "stdout",
          "text": [
            "Accuracy of the network on the 10000 test images: 69.76 %\n"
          ]
        }
      ]
    },
    {
      "cell_type": "code",
      "source": [
        "def imshow(img, title=None):\n",
        "    img = img / 2 + 0.5\n",
        "    npimg = img.numpy()\n",
        "    plt.imshow(np.transpose(npimg, (1, 2, 0)), cmap='gray')\n",
        "    if title is not None:\n",
        "        plt.title(title)\n",
        "    plt.show()\n",
        "\n",
        "dataiter = iter(testloader)\n",
        "images, labels = next(dataiter)\n",
        "\n",
        "outputs = model(images.to(device))\n",
        "_, predicted = torch.max(outputs, 1)\n",
        "\n",
        "print('GroundTruth: ', ' '.join('%5s' % classes[labels[j]] for j in range(4)))\n",
        "print('Predicted: ', ' '.join('%5s' % classes[predicted[j]] for j in range(4)))\n",
        "\n",
        "for i in range(4):\n",
        "    imshow(images[i], f'GroundTruth: {classes[labels[i]]} \\nPredicted: {classes[predicted[i]]}')"
      ],
      "metadata": {
        "colab": {
          "base_uri": "https://localhost:8080/",
          "height": 1000
        },
        "id": "zLSj4_xTTAAb",
        "outputId": "5c9d3bc9-7c15-419a-b5dd-06e2f0eac1a2"
      },
      "execution_count": 26,
      "outputs": [
        {
          "output_type": "stream",
          "name": "stdout",
          "text": [
            "GroundTruth:      7     2     1     0\n",
            "Predicted:      7     2     1     0\n"
          ]
        },
        {
          "output_type": "display_data",
          "data": {
            "text/plain": [
              "<Figure size 640x480 with 1 Axes>"
            ],
            "image/png": "[encoded data removed]"
          },
          "metadata": {}
        },
        {
          "output_type": "display_data",
          "data": {
            "text/plain": [
              "<Figure size 640x480 with 1 Axes>"
            ],
            "image/png": "[encoded data removed]"
          },
          "metadata": {}
        },
        {
          "output_type": "display_data",
          "data": {
            "text/plain": [
              "<Figure size 640x480 with 1 Axes>"
            ],
            "image/png": "[encoded data removed]"
          },
          "metadata": {}
        },
        {
          "output_type": "display_data",
          "data": {
            "text/plain": [
              "<Figure size 640x480 with 1 Axes>"
            ],
            "image/png": "[encoded data removed]"
          },
          "metadata": {}
        }
      ]
    },
    {
      "cell_type": "markdown",
      "metadata": {
        "id": "H8vPqI6oAIoO"
      },
      "source": [
        "---\n",
        "### Questions"
      ]
    },
    {
      "cell_type": "markdown",
      "source": [
        "1. What is a Convolutional Neural Network (CNN)? Describe its key components and how they differ from those in a fully connected neural network.\n",
        "\n",
        "Answer:\n",
        "\n",
        "A Convolutional Neural Network (CNN) is a specialized type of deep neural network designed for processing structured grid data, such as images. CNNs are particularly effective in tasks like image recognition, classification, and object detection. The key components of a CNN include convolutional layers, activation functions, pooling layers, fully connected layers, and dropout layers.\n",
        "\n",
        "\n",
        "*KEY COMPONENTS*\n",
        "\n",
        "**Convolutional layers** apply convolutional operations to the input, using learnable filters that slide over the input data to produce feature maps. This process helps capture spatial hierarchies and patterns in the data.\n",
        "\n",
        "**Activation functions**, such as the Rectified Linear Unit (ReLU), are applied after each convolution operation to introduce non-linearity into the model.\n",
        "\n",
        "**Pooling layers** perform down-sampling operations, reducing the spatial dimensions of the feature maps and thus the number of parameters and computations required.\n",
        "\n",
        "**Fully connected layers**, or dense layers, follow the convolutional and pooling layers to perform high-level reasoning. Each neuron in a fully connected layer is connected to every neuron in the previous layer.\n",
        "\n",
        "**Dropout layers** are used to prevent overfitting by randomly setting a fraction of input units to zero during training.\n",
        "\n",
        "\n",
        "*DIFFERENCES FROM FULLY CONNECTED NETWORKS*\n",
        "\n",
        "CNNs differ from fully connected networks in many ways. They use local connections in the convolutional layers rather than connecting every neuron to every other neuron. CNNs also leverage parameter sharing, where the same filter is used for different parts of the input, reducing the number of parameters. Additionally, CNNs are capable of capturing spatial hierarchies in images due to the convolution and pooling operations, which fully connected networks cannot do."
      ],
      "metadata": {
        "id": "l79ph-nSUW-D"
      }
    },
    {
      "cell_type": "markdown",
      "source": [
        "2. Explain the purpose of the convolution operation in a CNN. How does the use of different filter sizes affect the feature maps?\n"
      ],
      "metadata": {
        "id": "GIjXeE8yVkNK"
      }
    },
    {
      "cell_type": "markdown",
      "source": [
        "Answer:\n",
        "\n",
        "The convolution operation is the core building block of a CNN. It involves sliding a filter, or kernel, over the input data and computing the dot product between the filter and local regions of the input. This operation produces a feature map that highlights specific patterns or features in the input data. The primary purpose of convolution is to extract relevant features, such as edges, textures, and shapes, from the input data while preserving spatial relationships between pixels. This process helps in learning spatial hierarchies, essential for tasks like image recognition.\n",
        "\n",
        "The use of different filter sizes affects the feature maps in various ways. Small filters, such as 3x3, capture fine-grained details and local patterns. They are computationally efficient and allow for deeper networks with more layers. Large filters, such as 7x7, capture more global patterns and broader contextual information but are computationally expensive and may result in a larger number of parameters. Intermediate filters, like 5x5, provide a balance between capturing local and global features."
      ],
      "metadata": {
        "id": "iyN1CpNBVzsv"
      }
    },
    {
      "cell_type": "markdown",
      "source": [
        "3. What is the purpose of a pooling layer in a CNN, and how does it contribute to the network’s performance?"
      ],
      "metadata": {
        "id": "-zcM9AQvWDaS"
      }
    },
    {
      "cell_type": "markdown",
      "source": [
        "Answer:\n",
        "\n",
        "Pooling layers perform down-sampling operations on the feature maps produced by convolutional layers. The most common types are max pooling and average pooling. The primary purpose of pooling layers is dimensionality reduction, which decreases the spatial dimensions of the feature maps and, consequently, the number of parameters and computational load. Pooling also helps achieve translation invariance by summarizing the presence of features in regions of the input, making the network more robust to small translations and distortions. Pooling layers contribute to preventing overfitting by reducing the number of parameters which improves the network's performance by making it more efficient and better at generalizing to new data."
      ],
      "metadata": {
        "id": "_Ag1Zxj5WMw5"
      }
    },
    {
      "cell_type": "markdown",
      "source": [
        "4. Why are activation functions important in CNNs? Compare the use of ReLU (Rectified Linear Unit) with other activation functions."
      ],
      "metadata": {
        "id": "yndJmcj_WVPX"
      }
    },
    {
      "cell_type": "markdown",
      "source": [
        "Answer:\n",
        "\n",
        "Activation functions are important in CNNs because they introduce non-linearity, enabling the network to learn complex patterns and representations. Without activation functions, the network would behave as a linear model, regardless of its depth.\n",
        "\n",
        "ReLU, defined as ReLU(x) = max(0, x), is widely used because it is simple and efficient, and it helps in propagating gradients effectively, addressing the vanishing gradient problem. Other activation functions include sigmoid and tanh. Sigmoid, defined as σ(x) = 1 / (1 + exp(-x)), can suffer from vanishing gradients, leading to slow convergence. Tanh, defined as tanh(x) = (exp(x) - exp(-x)) / (exp(x) + exp(-x)), also suffers from vanishing gradients but to a lesser extent than sigmoid. Leaky ReLU, defined as Leaky ReLU(x) = max(0.01x, x), allows a small gradient when the unit is not active, addressing the “dying ReLU” problem."
      ],
      "metadata": {
        "id": "f7yHuYt_Wngn"
      }
    },
    {
      "cell_type": "markdown",
      "source": [
        "5. Describe the process of training a CNN. What are some common challenges faced during training?"
      ],
      "metadata": {
        "id": "82fYExRJXmVK"
      }
    },
    {
      "cell_type": "markdown",
      "source": [
        "Answer:\n",
        "\n",
        "First, forward propagation is performed, where the input data is passed through the network to obtain output predictions. Next, the loss is calculated using a loss function that measures the difference between the predicted output and the ground truth. Backward propagation is then used to compute the gradients of the loss with respect to the network parameters. These gradients are used to update the network parameters using an optimization algorithm, such as Stochastic Gradient Descent (SGD) or Adam. This process is repeated for a specified number of epochs or until convergence.\n",
        "\n",
        "Common challenges during training include overfitting, where the model performs well on training data but poorly on unseen data. This can be mitigated by using data augmentation, dropout, and regularization techniques. Another challenge is the vanishing or exploding gradient problem, where gradients become too small or too large, causing difficulties in training deep networks. Solutions include using activation functions like ReLU and techniques like batch normalization. Data scarcity, where limited training data can lead to poor generalization, can be addressed with data augmentation and transfer learning. Additionally, training deep CNNs requires significant computational power and memory, which can be addressed by using GPUs and efficient network architectures."
      ],
      "metadata": {
        "id": "PB87jmDKXq8V"
      }
    },
    {
      "cell_type": "markdown",
      "source": [
        "6. What are some common evaluation metrics used to assess the performance of a CNN on a classification task?"
      ],
      "metadata": {
        "id": "rgp9KEXHX66r"
      }
    },
    {
      "cell_type": "markdown",
      "source": [
        "Answer:\n",
        "\n",
        "Common evaluation metrics for assessing the performance of a CNN on a classification task include accuracy, precision, recall, the F1 score, and the confusion matrix. Accuracy is the proportion of correctly classified samples to the total number of samples. Precision is the proportion of true positive predictions to the total number of positive predictions, while recall is the proportion of true positive predictions to the total number of actual positives. The F1 score is the harmonic mean of precision and recall, providing a balanced measure. The confusion matrix shows the counts of true positives, false positives, true negatives, and false negatives, providing detailed insights into the model's performance."
      ],
      "metadata": {
        "id": "VeE-CJ_HYBfC"
      }
    },
    {
      "cell_type": "markdown",
      "source": [
        "7. How does data augmentation help improve the performance of a CNN? Provide examples of common data augmentation techniques."
      ],
      "metadata": {
        "id": "3tvLjjvlYFqe"
      }
    },
    {
      "cell_type": "markdown",
      "source": [
        "Answer:\n",
        "\n",
        "Data augmentation artificially increases the size and diversity of the training dataset by applying random transformations to the input data. It helps improve the model's ability to generalize and prevents overfitting by exposing the model to a wider variety of data. Common data augmentation techniques include horizontal and vertical flipping, rotation, cropping, translation, scaling, color jittering, and adding Gaussian noise. Horizontal and vertical flipping randomly flips the images. Rotation randomly rotates the images by a certain degree. Cropping involves randomly cropping a portion of the image and resizing it back to the original size. Translation shifts the image along the x or y axis, while scaling zooms in or out. Color jittering randomly changes the brightness, contrast, saturation, and hue of the image. Adding Gaussian noise introduces random noise to the image. By applying these transformations, the model learns to recognize patterns under various conditions, leading to better performance on unseen data."
      ],
      "metadata": {
        "id": "IhAj0PJyYLQU"
      }
    }
  ],
  "metadata": {
    "language_info": {
      "name": "python"
    },
    "colab": {
      "provenance": []
    },
    "kernelspec": {
      "name": "python3",
      "display_name": "Python 3"
    }
  },
  "nbformat": 4,
  "nbformat_minor": 0
}